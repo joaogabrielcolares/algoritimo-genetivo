{
  "nbformat": 4,
  "nbformat_minor": 0,
  "metadata": {
    "colab": {
      "provenance": [],
      "toc_visible": true,
      "authorship_tag": "ABX9TyNESMqYwQmKmEFDInygyYDW",
      "include_colab_link": true
    },
    "kernelspec": {
      "name": "python3",
      "display_name": "Python 3"
    },
    "language_info": {
      "name": "python"
    }
  },
  "cells": [
    {
      "cell_type": "markdown",
      "metadata": {
        "id": "view-in-github",
        "colab_type": "text"
      },
      "source": [
        "<a href=\"https://colab.research.google.com/github/joaogabrielcolares/algoritimo-genetivo/blob/main/genetic-algorithm.ipynb\" target=\"_parent\"><img src=\"https://colab.research.google.com/assets/colab-badge.svg\" alt=\"Open In Colab\"/></a>"
      ]
    },
    {
      "cell_type": "markdown",
      "source": [
        "**Descrição do Problema:**\n",
        "Investidores e gestores de fundos enfrentam o desafio de criar portfólios de investimento que maximizem o retorno esperado enquanto minimizam o risco. A composição do portfólio deve equilibrar diferentes ativos financeiros, como ações, títulos, commodities e outros instrumentos financeiros, de acordo com as preferências e restrições do investidor.\n",
        "\n",
        "**Objetivos:**\n",
        "Maximizar o Retorno Esperado: O objetivo é selecionar uma combinação de ativos que ofereça o maior retorno possível com base em previsões e análises de mercado.\n",
        "Minimizar o Risco: Reduzir a volatilidade e o risco associado ao portfólio, diversificando os investimentos para proteger contra perdas significativas.\n",
        "Equilibrar Preferências e Restrições: Levar em consideração as preferências do investidor, como tolerância ao risco, horizonte de investimento e restrições específicas (por exemplo, evitar certos setores ou tipos de ativos).\n",
        "Critérios de Sucesso:\n",
        "Aumento do Retorno sobre o Investimento (ROI): O portfólio deve proporcionar um retorno financeiro superior ao de benchmarks ou índices de mercado relevantes.\n",
        "Redução do Risco: O portfólio deve apresentar menor volatilidade e risco em comparação com alternativas menos diversificadas.\n",
        "Satisfação do Investidor: O portfólio deve atender às expectativas e preferências do investidor, proporcionando uma experiência de investimento satisfatória.\n",
        "Como Algoritmos Genéticos Podem Ajudar:\n",
        "Algoritmos Genéticos (AGs) são uma técnica de otimização inspirada na evolução natural. Eles podem ser utilizados para resolver o problema de design de portfólios de investimento da seguinte maneira:\n",
        "\n",
        "**Representação do Portfólio:** Cada indivíduo na população do AG representa um portfólio de investimento, codificado como um vetor de pesos que indicam a proporção de cada ativo no portfólio.\n",
        "\n",
        "**Função de Fitness:** A função de fitness avalia a qualidade de cada portfólio com base em critérios como retorno esperado e risco. Uma função comum é a razão de Sharpe, que mede o retorno ajustado pelo risco.\n",
        "\n",
        "**Operadores Genéticos:** Os operadores de seleção, cruzamento (crossover) e mutação são aplicados para gerar novas soluções (portfólios) a partir das existentes. A seleção favorece portfólios com melhor desempenho, enquanto o cruzamento e a mutação introduzem diversidade e exploram novas combinações de ativos.\n",
        "\n",
        "**Evolução:** O AG itera através de várias gerações, refinando a população de portfólios até encontrar uma solução otimizada que atenda aos objetivos do investidor."
      ],
      "metadata": {
        "id": "5lIjbDYUFGGp"
      }
    },
    {
      "cell_type": "code",
      "source": [
        "import numpy as np\n",
        "\n",
        "# todo\n",
        "# Acho que seria legal pegar uma lista de ativos para usarmos na nossa comparação, ou podemos colocar randomico como está ai. https://www.kaggle.com/\n",
        "# returns = np.random.randn(1000, 10)  # 1000 dias de retornos para 10 ativos\n",
        "# best_portfolio = genetic_algorithm(returns)\n",
        "# print(\"Melhor Portfólio:\", best_portfolio)"
      ],
      "metadata": {
        "id": "yiyWtzjZIA7J"
      },
      "execution_count": null,
      "outputs": []
    },
    {
      "cell_type": "code",
      "source": [
        "# Função de fitness (razão de Sharpe)\n",
        "def fitness(portfolio, returns, risk_free_rate=0.01):\n",
        "    portfolio_return = np.dot(portfolio, returns.mean())\n",
        "    portfolio_volatility = np.sqrt(np.dot(portfolio.T, np.dot(returns.cov(), portfolio)))\n",
        "    sharpe_ratio = (portfolio_return - risk_free_rate) / portfolio_volatility\n",
        "    return sharpe_ratio"
      ],
      "metadata": {
        "id": "I3aVnKwaKeCB"
      },
      "execution_count": 1,
      "outputs": []
    },
    {
      "cell_type": "code",
      "source": [
        "# Inicialização da população\n",
        "def initialize_population(pop_size, num_assets):\n",
        "    return np.random.dirichlet(np.ones(num_assets), size=pop_size)"
      ],
      "metadata": {
        "id": "DSyGJPLkKlx_"
      },
      "execution_count": null,
      "outputs": []
    },
    {
      "cell_type": "code",
      "source": [
        "# Seleção\n",
        "def selection(population, fitness_scores):\n",
        "    selected_indices = np.argsort(fitness_scores)[-len(population)//2:]\n",
        "    return population[selected_indices]"
      ],
      "metadata": {
        "id": "al61vwtZKxs7"
      },
      "execution_count": null,
      "outputs": []
    },
    {
      "cell_type": "code",
      "source": [
        "# Cruzamento\n",
        "def crossover(parent1, parent2):\n",
        "    crossover_point = np.random.randint(1, len(parent1)-1)\n",
        "    child1 = np.concatenate((parent1[:crossover_point], parent2[crossover_point:]))\n",
        "    child2 = np.concatenate((parent2[:crossover_point], parent1[crossover_point:]))\n",
        "    return child1, child2"
      ],
      "metadata": {
        "id": "C7unN-hxKzol"
      },
      "execution_count": null,
      "outputs": []
    },
    {
      "cell_type": "code",
      "source": [
        "# Mutação\n",
        "def mutation(portfolio, mutation_rate=0.01):\n",
        "    if np.random.rand() < mutation_rate:\n",
        "        mutation_point = np.random.randint(len(portfolio))\n",
        "        portfolio[mutation_point] = np.random.rand()\n",
        "        portfolio /= portfolio.sum()  # Normalizar para manter a soma dos pesos igual a 1\n",
        "    return portfolio"
      ],
      "metadata": {
        "id": "MpREHWPlK1iU"
      },
      "execution_count": null,
      "outputs": []
    },
    {
      "cell_type": "code",
      "source": [
        "# Algoritmo Genético\n",
        "def genetic_algorithm(returns, pop_size=100, generations=1000, mutation_rate=0.01):\n",
        "    num_assets = returns.shape[1]\n",
        "    population = initialize_population(pop_size, num_assets)\n",
        "\n",
        "    for generation in range(generations):\n",
        "        fitness_scores = np.array([fitness(portfolio, returns) for portfolio in population])\n",
        "        population = selection(population, fitness_scores)\n",
        "\n",
        "        new_population = []\n",
        "        while len(new_population) < pop_size:\n",
        "            parent1, parent2 = population[np.random.choice(len(population), 2, replace=False)]\n",
        "            child1, child2 = crossover(parent1, parent2)\n",
        "            new_population.append(mutation(child1, mutation_rate))\n",
        "            new_population.append(mutation(child2, mutation_rate))\n",
        "\n",
        "        population = np.array(new_population)\n",
        "\n",
        "    best_portfolio = population[np.argmax([fitness(portfolio, returns) for portfolio in population])]\n",
        "    return best_portfolio"
      ],
      "metadata": {
        "id": "mvZ5o4gNK3my"
      },
      "execution_count": null,
      "outputs": []
    },
    {
      "cell_type": "code",
      "source": [
        "best_portfolio = genetic_algorithm()\n",
        "print(\"Melhor Portfólio:\", best_portfolio)"
      ],
      "metadata": {
        "id": "h1JsFfD6LRtF"
      },
      "execution_count": null,
      "outputs": []
    }
  ]
}